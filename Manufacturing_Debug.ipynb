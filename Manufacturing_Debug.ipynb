{
 "cells": [
  {
   "cell_type": "code",
   "execution_count": null,
   "metadata": {
    "tags": []
   },
   "outputs": [],
   "source": [
    "%env PATH=/opt/conda/bin:/opt/spark-2.4.3-bin-hadoop2.7/bin:/opt/conda/bin:/usr/local/sbin:/usr/local/bin:/usr/sbin:/usr/bin:/sbin:/bin:/opt/intel_devcloud_support\n",
    "import os\n",
    "import sys\n",
    "sys.path.insert(0, os.path.abspath('/opt/intel_devcloud_support'))\n",
    "sys.path.insert(0, os.path.abspath('/opt/intel'))\n",
    "import openvino\n",
    "\n",
    "\n",
    "import videoHtml\n",
    "videoHtml.videoHTML('Manufacturing', ['original_videos/Manufacturing.mp4'])\n",
    "\n",
    "\n",
    "MODEL_PATH = '/data/models/intel/person-detection-retail-0013/FP16/person-detection-retail-0013'\n",
    "VIDEO = '/data/resources/manufacturing.mp4'\n",
    "QUEUE = '/data/queue_param/manufacturing.npy'\n",
    "PEOPLE = 5\n",
    "\n",
    "\n",
    "def submit(device, node):\n",
    "    device_postfix = device\n",
    "    if device.startswith('HETERO:FPGA'):\n",
    "        device_postfix = 'FPGA'\n",
    "        \n",
    "    job_name = 'JOB_MANUFACTURING_' + device_postfix\n",
    "    output = '/output/results/manufacturing/' + device_postfix\n",
    "    params = '{} {} {} {} {} {}'.format(MODEL_PATH, device, VIDEO, QUEUE, output, PEOPLE)\n",
    "\n",
    "    job_id = !qsub queue_job.sh -l nodes=1:{node} -d . -F \"{params}\" -N {job_name}\n",
    "    return job_id\n",
    "\n",
    "\n",
    "# Submit job to the queue\n",
    "cpu_job_id = submit('CPU', 'tank-870:i5-6500te')\n",
    "print(cpu_job_id[0])\n",
    "\n",
    "\n",
    "import liveQStat\n",
    "liveQStat.liveQStat()\n",
    "import get_results\n",
    "get_results.getResults(cpu_job_id[0], filename='output.tgz', blocking=True)\n",
    "\n",
    "\n",
    "!tar xzf output.tgz\n",
    "!cat stdout.log\n",
    "!cat stderr.log"
   ]
  }
 ],
 "metadata": {
  "kernelspec": {
   "display_name": "Python 3",
   "language": "python",
   "name": "python3"
  },
  "language_info": {
   "codemirror_mode": {
    "name": "ipython",
    "version": 3
   },
   "file_extension": ".py",
   "mimetype": "text/x-python",
   "name": "python",
   "nbconvert_exporter": "python",
   "pygments_lexer": "ipython3",
   "version": "3.6.3"
  }
 },
 "nbformat": 4,
 "nbformat_minor": 2
}